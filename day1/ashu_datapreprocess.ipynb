{
 "cells": [
  {
   "cell_type": "code",
   "execution_count": 1,
   "id": "1d304884-b2d0-4c38-8b45-1a7acdd4cedc",
   "metadata": {},
   "outputs": [],
   "source": [
    "# activating my personal VENV \n",
    "!source ./bin/activate"
   ]
  },
  {
   "cell_type": "code",
   "execution_count": 15,
   "id": "ecc708da-37a6-4795-a604-feb8d287aee3",
   "metadata": {},
   "outputs": [],
   "source": [
    "# importing  pandas library \n",
    "import pandas as pd \n",
    "from sklearn.impute import SimpleImputer\n",
    "import numpy as np\n",
    "# above sklearn function to deal with missing values\n",
    "from sklearn.preprocessing import LabelEncoder\n",
    "# chosing independent variable encoding \n",
    "from sklearn.compose import ColumnTransformer\n",
    "from sklearn.preprocessing import OneHotEncoder\n",
    "# data split module \n",
    "from sklearn.model_selection import train_test_split"
   ]
  },
  {
   "cell_type": "code",
   "execution_count": 3,
   "id": "5dc074eb-d02d-4c1b-aa23-0d99f1b8a97e",
   "metadata": {},
   "outputs": [],
   "source": [
    "# loading csv file using pandas \n",
    "df = pd.read_csv('data_preprocess1.csv')"
   ]
  },
  {
   "cell_type": "code",
   "execution_count": 4,
   "id": "90258a26-8bd7-4874-aa92-e6f873ec40d3",
   "metadata": {},
   "outputs": [
    {
     "name": "stdout",
     "output_type": "stream",
     "text": [
      "<class 'pandas.core.frame.DataFrame'>\n",
      "RangeIndex: 30 entries, 0 to 29\n",
      "Data columns (total 4 columns):\n",
      " #   Column     Non-Null Count  Dtype  \n",
      "---  ------     --------------  -----  \n",
      " 0   Country    30 non-null     object \n",
      " 1   Age        29 non-null     float64\n",
      " 2   Salary     28 non-null     float64\n",
      " 3   Purchased  30 non-null     object \n",
      "dtypes: float64(2), object(2)\n",
      "memory usage: 1.1+ KB\n"
     ]
    }
   ],
   "source": [
    "# checking metadata info \n",
    "df.info()"
   ]
  },
  {
   "cell_type": "code",
   "execution_count": 5,
   "id": "319c232d-f75c-4209-9836-a68deca44619",
   "metadata": {},
   "outputs": [
    {
     "data": {
      "text/html": [
       "<div>\n",
       "<style scoped>\n",
       "    .dataframe tbody tr th:only-of-type {\n",
       "        vertical-align: middle;\n",
       "    }\n",
       "\n",
       "    .dataframe tbody tr th {\n",
       "        vertical-align: top;\n",
       "    }\n",
       "\n",
       "    .dataframe thead th {\n",
       "        text-align: right;\n",
       "    }\n",
       "</style>\n",
       "<table border=\"1\" class=\"dataframe\">\n",
       "  <thead>\n",
       "    <tr style=\"text-align: right;\">\n",
       "      <th></th>\n",
       "      <th>Country</th>\n",
       "      <th>Age</th>\n",
       "      <th>Salary</th>\n",
       "      <th>Purchased</th>\n",
       "    </tr>\n",
       "  </thead>\n",
       "  <tbody>\n",
       "    <tr>\n",
       "      <th>0</th>\n",
       "      <td>France</td>\n",
       "      <td>44.0</td>\n",
       "      <td>72000.0</td>\n",
       "      <td>No</td>\n",
       "    </tr>\n",
       "    <tr>\n",
       "      <th>1</th>\n",
       "      <td>Spain</td>\n",
       "      <td>27.0</td>\n",
       "      <td>48000.0</td>\n",
       "      <td>Yes</td>\n",
       "    </tr>\n",
       "    <tr>\n",
       "      <th>2</th>\n",
       "      <td>Germany</td>\n",
       "      <td>30.0</td>\n",
       "      <td>54000.0</td>\n",
       "      <td>No</td>\n",
       "    </tr>\n",
       "    <tr>\n",
       "      <th>3</th>\n",
       "      <td>Spain</td>\n",
       "      <td>38.0</td>\n",
       "      <td>61000.0</td>\n",
       "      <td>No</td>\n",
       "    </tr>\n",
       "    <tr>\n",
       "      <th>4</th>\n",
       "      <td>Germany</td>\n",
       "      <td>40.0</td>\n",
       "      <td>NaN</td>\n",
       "      <td>Yes</td>\n",
       "    </tr>\n",
       "  </tbody>\n",
       "</table>\n",
       "</div>"
      ],
      "text/plain": [
       "   Country   Age   Salary Purchased\n",
       "0   France  44.0  72000.0        No\n",
       "1    Spain  27.0  48000.0       Yes\n",
       "2  Germany  30.0  54000.0        No\n",
       "3    Spain  38.0  61000.0        No\n",
       "4  Germany  40.0      NaN       Yes"
      ]
     },
     "execution_count": 5,
     "metadata": {},
     "output_type": "execute_result"
    }
   ],
   "source": [
    "# printing rows from top 5 rows by default \n",
    "df.head()"
   ]
  },
  {
   "cell_type": "code",
   "execution_count": 6,
   "id": "28098308-cec8-447f-b5da-e8cb0299d0a2",
   "metadata": {},
   "outputs": [
    {
     "name": "stdout",
     "output_type": "stream",
     "text": [
      "[['France' 44.0 72000.0]\n",
      " ['Spain' 27.0 48000.0]\n",
      " ['Germany' 30.0 54000.0]\n",
      " ['Spain' 38.0 61000.0]\n",
      " ['Germany' 40.0 nan]\n",
      " ['France' 35.0 58000.0]\n",
      " ['Spain' nan 52000.0]\n",
      " ['France' 48.0 79000.0]\n",
      " ['Germany' 50.0 83000.0]\n",
      " ['France' 37.0 67000.0]\n",
      " ['Germany' 28.0 49000.0]\n",
      " ['France' 42.0 75000.0]\n",
      " ['Spain' 33.0 56000.0]\n",
      " ['Germany' 45.0 77000.0]\n",
      " ['France' 29.0 51000.0]\n",
      " ['Spain' 51.0 85000.0]\n",
      " ['Germany' 36.0 nan]\n",
      " ['France' 31.0 55000.0]\n",
      " ['Spain' 39.0 63000.0]\n",
      " ['Germany' 47.0 80000.0]\n",
      " ['France' 26.0 47000.0]\n",
      " ['Spain' 32.0 53000.0]\n",
      " ['Germany' 41.0 71000.0]\n",
      " ['France' 49.0 82000.0]\n",
      " ['Spain' 34.0 57000.0]\n",
      " ['Germany' 43.0 74000.0]\n",
      " ['France' 52.0 88000.0]\n",
      " ['Spain' 46.0 78000.0]\n",
      " ['Germany' 25.0 45000.0]\n",
      " ['France' 53.0 90000.0]]\n"
     ]
    }
   ],
   "source": [
    "# seperating data into independent and dependent variables \n",
    "# features and label \n",
    "features = df.iloc[:,0:3].values\n",
    "label = df.iloc[:,-1].values\n",
    "print(features)"
   ]
  },
  {
   "cell_type": "code",
   "execution_count": 7,
   "id": "d22e32c5-2e3c-48c7-a195-412b5caffa15",
   "metadata": {},
   "outputs": [
    {
     "name": "stdout",
     "output_type": "stream",
     "text": [
      "['No' 'Yes' 'No' 'No' 'Yes' 'Yes' 'No' 'Yes' 'No' 'Yes' 'Yes' 'No' 'Yes'\n",
      " 'No' 'Yes' 'No' 'No' 'No' 'Yes' 'Yes' 'No' 'No' 'Yes' 'No' 'Yes' 'No'\n",
      " 'Yes' 'No' 'Yes' 'No']\n"
     ]
    }
   ],
   "source": [
    "print(label)"
   ]
  },
  {
   "cell_type": "code",
   "execution_count": 8,
   "id": "56199dad-cf11-4a58-a1ae-06007870ae78",
   "metadata": {},
   "outputs": [],
   "source": [
    "# create strategy to deal with missing values \n",
    "my_impute = SimpleImputer(missing_values=np.nan, strategy='mean')\n"
   ]
  },
  {
   "cell_type": "code",
   "execution_count": 9,
   "id": "5d615c44-081c-49a0-9de5-ae501ec8669b",
   "metadata": {},
   "outputs": [],
   "source": [
    "# lets apply in input data columns only \n",
    "my_impute.fit(features[:,1:3]) # selecting only target columns \n",
    "features[:,1:3] = my_impute.transform(features[:,1:3]) # apply the transformation "
   ]
  },
  {
   "cell_type": "code",
   "execution_count": 10,
   "id": "8b754303-1117-4fef-87ed-f567f1d79401",
   "metadata": {},
   "outputs": [
    {
     "name": "stdout",
     "output_type": "stream",
     "text": [
      "[['France' 44.0 72000.0]\n",
      " ['Spain' 27.0 48000.0]\n",
      " ['Germany' 30.0 54000.0]\n",
      " ['Spain' 38.0 61000.0]\n",
      " ['Germany' 40.0 66071.42857142857]\n",
      " ['France' 35.0 58000.0]\n",
      " ['Spain' 39.0 52000.0]\n",
      " ['France' 48.0 79000.0]\n",
      " ['Germany' 50.0 83000.0]\n",
      " ['France' 37.0 67000.0]\n",
      " ['Germany' 28.0 49000.0]\n",
      " ['France' 42.0 75000.0]\n",
      " ['Spain' 33.0 56000.0]\n",
      " ['Germany' 45.0 77000.0]\n",
      " ['France' 29.0 51000.0]\n",
      " ['Spain' 51.0 85000.0]\n",
      " ['Germany' 36.0 66071.42857142857]\n",
      " ['France' 31.0 55000.0]\n",
      " ['Spain' 39.0 63000.0]\n",
      " ['Germany' 47.0 80000.0]\n",
      " ['France' 26.0 47000.0]\n",
      " ['Spain' 32.0 53000.0]\n",
      " ['Germany' 41.0 71000.0]\n",
      " ['France' 49.0 82000.0]\n",
      " ['Spain' 34.0 57000.0]\n",
      " ['Germany' 43.0 74000.0]\n",
      " ['France' 52.0 88000.0]\n",
      " ['Spain' 46.0 78000.0]\n",
      " ['Germany' 25.0 45000.0]\n",
      " ['France' 53.0 90000.0]]\n"
     ]
    }
   ],
   "source": [
    "print(features)"
   ]
  },
  {
   "cell_type": "code",
   "execution_count": 11,
   "id": "0617636f-0536-45d1-86c8-b618d03bc167",
   "metadata": {},
   "outputs": [
    {
     "name": "stdout",
     "output_type": "stream",
     "text": [
      "[0 1 0 0 1 1 0 1 0 1 1 0 1 0 1 0 0 0 1 1 0 0 1 0 1 0 1 0 1 0]\n"
     ]
    }
   ],
   "source": [
    "# calling label encoder \n",
    "le = LabelEncoder()\n",
    "label = le.fit_transform(label)\n",
    "print(label)"
   ]
  },
  {
   "cell_type": "code",
   "execution_count": 13,
   "id": "1f35fd3d-b7de-4151-8aee-65f3b6082e96",
   "metadata": {},
   "outputs": [],
   "source": [
    "# data preprocessing using categorical of independent value\n",
    "# creating formula \n",
    "ct = ColumnTransformer(transformers=[('enocder',OneHotEncoder(), [0])], remainder='passthrough')"
   ]
  },
  {
   "cell_type": "code",
   "execution_count": 14,
   "id": "ac5aa74d-b9db-4ea3-8182-e7d08d8e4771",
   "metadata": {},
   "outputs": [
    {
     "name": "stdout",
     "output_type": "stream",
     "text": [
      "[[1.0 0.0 0.0 44.0 72000.0]\n",
      " [0.0 0.0 1.0 27.0 48000.0]\n",
      " [0.0 1.0 0.0 30.0 54000.0]\n",
      " [0.0 0.0 1.0 38.0 61000.0]\n",
      " [0.0 1.0 0.0 40.0 66071.42857142857]\n",
      " [1.0 0.0 0.0 35.0 58000.0]\n",
      " [0.0 0.0 1.0 39.0 52000.0]\n",
      " [1.0 0.0 0.0 48.0 79000.0]\n",
      " [0.0 1.0 0.0 50.0 83000.0]\n",
      " [1.0 0.0 0.0 37.0 67000.0]\n",
      " [0.0 1.0 0.0 28.0 49000.0]\n",
      " [1.0 0.0 0.0 42.0 75000.0]\n",
      " [0.0 0.0 1.0 33.0 56000.0]\n",
      " [0.0 1.0 0.0 45.0 77000.0]\n",
      " [1.0 0.0 0.0 29.0 51000.0]\n",
      " [0.0 0.0 1.0 51.0 85000.0]\n",
      " [0.0 1.0 0.0 36.0 66071.42857142857]\n",
      " [1.0 0.0 0.0 31.0 55000.0]\n",
      " [0.0 0.0 1.0 39.0 63000.0]\n",
      " [0.0 1.0 0.0 47.0 80000.0]\n",
      " [1.0 0.0 0.0 26.0 47000.0]\n",
      " [0.0 0.0 1.0 32.0 53000.0]\n",
      " [0.0 1.0 0.0 41.0 71000.0]\n",
      " [1.0 0.0 0.0 49.0 82000.0]\n",
      " [0.0 0.0 1.0 34.0 57000.0]\n",
      " [0.0 1.0 0.0 43.0 74000.0]\n",
      " [1.0 0.0 0.0 52.0 88000.0]\n",
      " [0.0 0.0 1.0 46.0 78000.0]\n",
      " [0.0 1.0 0.0 25.0 45000.0]\n",
      " [1.0 0.0 0.0 53.0 90000.0]]\n"
     ]
    }
   ],
   "source": [
    "features = np.array(ct.fit_transform(features))\n",
    "print(features)"
   ]
  },
  {
   "cell_type": "code",
   "execution_count": null,
   "id": "e83862ee-4e2d-4c52-a208-bb9e908b881a",
   "metadata": {},
   "outputs": [],
   "source": [
    "# spliting data into training and testing part (eval part)\n",
    "train_ft,test_ft,train_lb,test_lb=train_test_split(features,label,test_size=0.2)\n",
    "# test_size 0.0 to 1.0 -- 0.1 means 10% , 0.2 means 20% testing data "
   ]
  }
 ],
 "metadata": {
  "kernelspec": {
   "display_name": "Python 3 (ipykernel)",
   "language": "python",
   "name": "python3"
  },
  "language_info": {
   "codemirror_mode": {
    "name": "ipython",
    "version": 3
   },
   "file_extension": ".py",
   "mimetype": "text/x-python",
   "name": "python",
   "nbconvert_exporter": "python",
   "pygments_lexer": "ipython3",
   "version": "3.8.10"
  }
 },
 "nbformat": 4,
 "nbformat_minor": 5
}
